{
 "cells": [
  {
   "cell_type": "code",
   "execution_count": 2,
   "id": "c9e1ae43",
   "metadata": {},
   "outputs": [],
   "source": [
    "import pandas as pd\n",
    "import glob\n",
    "import os\n",
    "import shutil\n",
    "import sys"
   ]
  },
  {
   "cell_type": "code",
   "execution_count": 3,
   "id": "62011b25-f41f-4fcc-af33-b786864c6dba",
   "metadata": {},
   "outputs": [],
   "source": [
    "# Paths to datasets with DePlot tables\n",
    "data_pattern = '/Users/angwang/ChartFC/seed_datasets_150_GF/3_translated_data_150_GF/**/*-dp.csv'"
   ]
  },
  {
   "cell_type": "code",
   "execution_count": 6,
   "id": "2f1b5847",
   "metadata": {},
   "outputs": [],
   "source": [
    "''' Convert data string to a DataFrame and a title '''\n",
    "def string_to_dataframe_and_title(data_string, filepath):\n",
    "    # Split the data into rows\n",
    "    rows = data_string.strip().split(\"<0x0A>\")\n",
    "    \n",
    "    title = None\n",
    "    header = None\n",
    "\n",
    "    # Check if the first row is a title and extract it\n",
    "    if \"TITLE |\" in rows[0]:\n",
    "        potential_title = rows[0].split(\" | \", 1)[1]  # Split and take second part as the potential title\n",
    "        if potential_title.strip().lower() not in ['', 'title']: # Handle cases with placeholder titles\n",
    "            title = potential_title  # Only set title if its meaningful\n",
    "        rows.pop(0)  # Remove the title row from processing\n",
    "\n",
    "    # The next row should be the header\n",
    "    if rows:\n",
    "        header = [h.strip() for h in rows.pop(0).split(\"|\") if h.strip()]\n",
    "        # rows.pop(0).split(\" | \")\n",
    "    else:\n",
    "        raise ValueError(\"No header row found after the title row.\")\n",
    "\n",
    "    # Check if there are any data rows left after removing title and header\n",
    "    if not rows:\n",
    "        raise ValueError(\"No data rows found after the header row.\")\n",
    "\n",
    "    # Split remaining rows based on number of headers\n",
    "    records = []\n",
    "    for row in rows:\n",
    "        record = [r.strip() for r in row.strip().split(\"|\") if r.strip()]\n",
    "        if len(record) != len(header):\n",
    "            print(f\"File: {filepath}: Row has {len(record)} columns, expected {len(header)} - row data: {record}\")\n",
    "            return None, title  # to keep original CSV instead\n",
    "        records.append(record)\n",
    "\n",
    "    # Create df and convert data to numeric where possible\n",
    "    df = pd.DataFrame(records, columns=header).apply(pd.to_numeric, errors='ignore')\n",
    "\n",
    "    return df, title"
   ]
  },
  {
   "cell_type": "code",
   "execution_count": 7,
   "id": "1cc21f65",
   "metadata": {},
   "outputs": [],
   "source": [
    "''' Save the title to a separate txt file '''\n",
    "def save_title_to_file(title, filepath):\n",
    "    if title:\n",
    "        title_filepath = f\"{filepath.rsplit('.', 1)[0]}-title.txt\" # same name with 'txt' extension\n",
    "        with open(title_filepath, 'w') as f:\n",
    "            f.write(title)"
   ]
  },
  {
   "cell_type": "code",
   "execution_count": 9,
   "id": "a0a876f1",
   "metadata": {},
   "outputs": [
    {
     "data": {
      "text/plain": [
       "['/Users/angwang/ChartFC/seed_datasets_150_GF/3_translated_data_150_GF/FigureQA/train/tables/figureQA_81266-train-dp.csv',\n",
       " '/Users/angwang/ChartFC/seed_datasets_150_GF/3_translated_data_150_GF/FigureQA/train/tables/figureQA_16865-train-dp.csv',\n",
       " '/Users/angwang/ChartFC/seed_datasets_150_GF/3_translated_data_150_GF/FigureQA/train/tables/figureQA_15311-train-dp.csv',\n",
       " '/Users/angwang/ChartFC/seed_datasets_150_GF/3_translated_data_150_GF/FigureQA/train/tables/figureQA_86227-train-dp.csv',\n",
       " '/Users/angwang/ChartFC/seed_datasets_150_GF/3_translated_data_150_GF/FigureQA/train/tables/figureQA_10137-train-dp.csv',\n",
       " '/Users/angwang/ChartFC/seed_datasets_150_GF/3_translated_data_150_GF/FigureQA/train/tables/figureQA_21272-train-dp.csv',\n",
       " '/Users/angwang/ChartFC/seed_datasets_150_GF/3_translated_data_150_GF/FigureQA/train/tables/figureQA_88572-train-dp.csv',\n",
       " '/Users/angwang/ChartFC/seed_datasets_150_GF/3_translated_data_150_GF/FigureQA/train/tables/figureQA_38848-train-dp.csv',\n",
       " '/Users/angwang/ChartFC/seed_datasets_150_GF/3_translated_data_150_GF/FigureQA/train/tables/figureQA_13202-train-dp.csv',\n",
       " '/Users/angwang/ChartFC/seed_datasets_150_GF/3_translated_data_150_GF/FigureQA/train/tables/figureQA_10448-train-dp.csv',\n",
       " '/Users/angwang/ChartFC/seed_datasets_150_GF/3_translated_data_150_GF/FigureQA/train/tables/figureQA_33773-train-dp.csv',\n",
       " '/Users/angwang/ChartFC/seed_datasets_150_GF/3_translated_data_150_GF/FigureQA/train/tables/figureQA_14982-train-dp.csv',\n",
       " '/Users/angwang/ChartFC/seed_datasets_150_GF/3_translated_data_150_GF/FigureQA/train/tables/figureQA_99536-train-dp.csv',\n",
       " '/Users/angwang/ChartFC/seed_datasets_150_GF/3_translated_data_150_GF/FigureQA/train/tables/figureQA_95767-train-dp.csv',\n",
       " '/Users/angwang/ChartFC/seed_datasets_150_GF/3_translated_data_150_GF/FigureQA/train/tables/figureQA_80654-train-dp.csv',\n",
       " '/Users/angwang/ChartFC/seed_datasets_150_GF/3_translated_data_150_GF/FigureQA/train/tables/figureQA_98884-train-dp.csv',\n",
       " '/Users/angwang/ChartFC/seed_datasets_150_GF/3_translated_data_150_GF/FigureQA/train/tables/figureQA_49556-train-dp.csv',\n",
       " '/Users/angwang/ChartFC/seed_datasets_150_GF/3_translated_data_150_GF/FigureQA/train/tables/figureQA_63661-train-dp.csv',\n",
       " '/Users/angwang/ChartFC/seed_datasets_150_GF/3_translated_data_150_GF/FigureQA/train/tables/figureQA_41738-train-dp.csv',\n",
       " '/Users/angwang/ChartFC/seed_datasets_150_GF/3_translated_data_150_GF/FigureQA/train/tables/figureQA_81312-train-dp.csv']"
      ]
     },
     "execution_count": 9,
     "metadata": {},
     "output_type": "execute_result"
    }
   ],
   "source": [
    "''' Check if CSV was converted properly '''\n",
    "def test_csv_conversion(directory_pattern):\n",
    "    not_converted_properly = []\n",
    "\n",
    "    # Loop through each file in directory\n",
    "    for filepath in glob.glob(directory_pattern, recursive=True):\n",
    "        # Only check converted files\n",
    "        if filepath.endswith('-dp.csv'):\n",
    "            try:\n",
    "                df = pd.read_csv(filepath)\n",
    "                # If shape is (0, 1), add to list\n",
    "                if df.shape == (0, 1):\n",
    "                    not_converted_properly.append(filepath)\n",
    "            except Exception as e: # If error reading CSV, add to list\n",
    "                not_converted_properly.append(filepath)\n",
    "\n",
    "    return not_converted_properly\n",
    "\n",
    "# Check for files not converted properly\n",
    "csvs_not_converted_properly = test_csv_conversion(data_pattern)\n",
    "csvs_not_converted_properly"
   ]
  },
  {
   "cell_type": "code",
   "execution_count": null,
   "id": "62120ca5",
   "metadata": {},
   "outputs": [],
   "source": [
    "# Main Processing Logic\n",
    "def process_csv_files(src, dst):\n",
    "    if not os.path.exists(dst):\n",
    "        os.makedirs(dst)\n",
    "    \n",
    "    data_pattern = os.path.join(src, '**', '*-dp.csv')\n",
    "\n",
    "    for filepath in glob.glob(data_pattern, recursive=True):\n",
    "        with open(filepath, 'r') as file:\n",
    "            data_string = file.read()\n",
    "\n",
    "        try:\n",
    "            result = string_to_dataframe_and_title(data_string, filepath)\n",
    "            if result is None:\n",
    "                print(f\"Skipping conversion for {filepath} because it removes data.\")\n",
    "                continue\n",
    "\n",
    "            df, title = result\n",
    "\n",
    "            if df is not None:\n",
    "                # Save the DataFrame (overwrite original file)\n",
    "                df.to_csv(filepath, index=False)\n",
    "\n",
    "                # Save the title to a separate file\n",
    "                save_title_to_file(title, filepath)\n",
    "                print(f\"Preprocessing successful for {filepath}\")\n",
    "        except ValueError as e:\n",
    "            print(f\"Error processing {filepath}: {e}\")\n",
    "\n",
    "    csvs_not_converted_properly = test_csv_conversion(data_pattern)\n",
    "    if csvs_not_converted_properly:\n",
    "        print(f\"CSV files not converted properly: {csvs_not_converted_properly}\")\n",
    "        print(f\"Number of CSVs not converted properly: {len(csvs_not_converted_properly)}\")"
   ]
  },
  {
   "cell_type": "code",
   "execution_count": null,
   "id": "2d0f9e6b",
   "metadata": {},
   "outputs": [],
   "source": [
    "# Get source and destination from environment variables\n",
    "src = os.getenv('SRC_PATH')\n",
    "dst = os.getenv('DST_PATH')\n",
    "\n",
    "if not src or not dst:\n",
    "    print(\"Source or destination path not provided.\")\n",
    "    sys.exit(1)\n",
    "\n",
    "# Ensure that the source directory exists\n",
    "if not os.path.exists(src):\n",
    "    print(f\"Source path does not exist: {src}\")\n",
    "    sys.exit(1)\n",
    "\n",
    "# Ensure that the destination directory exists or create it\n",
    "if not os.path.exists(dst):\n",
    "    os.makedirs(dst, exist_ok=True)\n",
    "\n",
    "print(f\"Source: {src}\")\n",
    "print(f\"Destination: {dst}\")"
   ]
  },
  {
   "cell_type": "code",
   "execution_count": null,
   "id": "06247c13",
   "metadata": {},
   "outputs": [],
   "source": [
    "process_csv_files(src, dst)"
   ]
  }
 ],
 "metadata": {
  "kernelspec": {
   "display_name": "Python 3 (ipykernel)",
   "language": "python",
   "name": "python3"
  },
  "language_info": {
   "codemirror_mode": {
    "name": "ipython",
    "version": 3
   },
   "file_extension": ".py",
   "mimetype": "text/x-python",
   "name": "python",
   "nbconvert_exporter": "python",
   "pygments_lexer": "ipython3",
   "version": "3.11.7"
  }
 },
 "nbformat": 4,
 "nbformat_minor": 5
}
