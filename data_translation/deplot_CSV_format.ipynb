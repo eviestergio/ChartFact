{
 "cells": [
  {
   "cell_type": "code",
   "execution_count": 2,
   "id": "c9e1ae43",
   "metadata": {},
   "outputs": [],
   "source": [
    "import pandas as pd\n",
    "import glob\n",
    "import os"
   ]
  },
  {
   "cell_type": "code",
   "execution_count": 3,
   "id": "62011b25-f41f-4fcc-af33-b786864c6dba",
   "metadata": {},
   "outputs": [],
   "source": [
    "# Paths to datasets with DePlot tables\n",
    "data_pattern = '/Users/angwang/ChartFC/seed_datasets_150_GF/3_translated_data_150_GF/**/*-dp.csv'"
   ]
  },
  {
   "cell_type": "code",
   "execution_count": 6,
   "id": "2f1b5847",
   "metadata": {},
   "outputs": [],
   "source": [
    "''' Convert data string to a DataFrame and a title '''\n",
    "def string_to_dataframe_and_title(data_string, filepath):\n",
    "    # Split the data into rows\n",
    "    rows = data_string.strip().split(\"<0x0A>\")\n",
    "    \n",
    "    title = None\n",
    "    header = None\n",
    "\n",
    "    # Check if the first row is a title and extract it\n",
    "    if \"TITLE |\" in rows[0]:\n",
    "        potential_title = rows[0].split(\" | \", 1)[1]  # Split and take second part as the potential title\n",
    "        if potential_title.strip().lower() not in ['', 'title']: # Handle cases with placeholder titles\n",
    "            title = potential_title  # Only set title if its meaningful\n",
    "        rows.pop(0)  # Remove the title row from processing\n",
    "\n",
    "    # The next row should be the header\n",
    "    if rows:\n",
    "        header = [h.strip() for h in rows.pop(0).split(\"|\") if h.strip()]\n",
    "        # rows.pop(0).split(\" | \")\n",
    "    else:\n",
    "        raise ValueError(\"No header row found after the title row.\")\n",
    "\n",
    "    # Check if there are any data rows left after removing title and header\n",
    "    if not rows:\n",
    "        raise ValueError(\"No data rows found after the header row.\")\n",
    "\n",
    "    # Split remaining rows based on number of headers\n",
    "    records = []\n",
    "    for row in rows:\n",
    "        record = [r.strip() for r in row.strip().split(\"|\") if r.strip()]\n",
    "        if len(record) != len(header):\n",
    "            print(f\"File: {filepath}: Row has {len(record)} columns, expected {len(header)} - row data: {record}\")\n",
    "            return None, title  # to keep original CSV instead\n",
    "        records.append(record)\n",
    "\n",
    "    # Create df and convert data to numeric where possible\n",
    "    df = pd.DataFrame(records, columns=header).apply(pd.to_numeric, errors='ignore')\n",
    "\n",
    "    return df, title"
   ]
  },
  {
   "cell_type": "code",
   "execution_count": 7,
   "id": "1cc21f65",
   "metadata": {},
   "outputs": [],
   "source": [
    "''' Save the title to a separate txt file '''\n",
    "def save_title_to_file(title, filepath):\n",
    "    if title:\n",
    "        title_filepath = f\"{filepath.rsplit('.', 1)[0]}-title.txt\" # Add '-title' extention\n",
    "        with open(title_filepath, 'w') as f:\n",
    "            f.write(title)"
   ]
  },
  {
   "cell_type": "code",
   "execution_count": 8,
   "id": "c6bc1819",
   "metadata": {},
   "outputs": [
    {
     "name": "stdout",
     "output_type": "stream",
     "text": [
      "File: /Users/angwang/ChartFC/seed_datasets_150_GF/3_translated_data_150_GF/FigureQA/train/tables/figureQA_81266-train-dp.csv: Row has 7 columns, expected 8 - row data: ['Lime Green', '94.1', '94.7', '94.8', '94.17', '94.08', '94.0']\n",
      "File: /Users/angwang/ChartFC/seed_datasets_150_GF/3_translated_data_150_GF/FigureQA/train/tables/figureQA_16865-train-dp.csv: Row has 4 columns, expected 3 - row data: ['Dark Orchid', '1', '1', '1']\n",
      "File: /Users/angwang/ChartFC/seed_datasets_150_GF/3_translated_data_150_GF/FigureQA/train/tables/figureQA_15311-train-dp.csv: Row has 4 columns, expected 3 - row data: ['Medium Aqua', '1.000', '11.000', '11.000']\n",
      "File: /Users/angwang/ChartFC/seed_datasets_150_GF/3_translated_data_150_GF/FigureQA/train/tables/figureQA_86227-train-dp.csv: Row has 4 columns, expected 6 - row data: ['xaxis_label', '86.7', '67.3', '6']\n",
      "File: /Users/angwang/ChartFC/seed_datasets_150_GF/3_translated_data_150_GF/FigureQA/train/tables/figureQA_10137-train-dp.csv: Row has 6 columns, expected 5 - row data: ['Kamen Riders', '0', '20', '1', '1', '1']\n",
      "File: /Users/angwang/ChartFC/seed_datasets_150_GF/3_translated_data_150_GF/FigureQA/train/tables/figureQA_21272-train-dp.csv: Row has 7 columns, expected 6 - row data: ['title', '1', '1', '1', '3', '1', '1']\n",
      "File: /Users/angwang/ChartFC/seed_datasets_150_GF/3_translated_data_150_GF/FigureQA/train/tables/figureQA_88572-train-dp.csv: Row has 2 columns, expected 3 - row data: ['xaxis.label', '97.']\n",
      "File: /Users/angwang/ChartFC/seed_datasets_150_GF/3_translated_data_150_GF/FigureQA/train/tables/figureQA_38848-train-dp.csv: Row has 4 columns, expected 3 - row data: ['title', '1', '1', '1']\n",
      "File: /Users/angwang/ChartFC/seed_datasets_150_GF/3_translated_data_150_GF/FigureQA/train/tables/figureQA_13202-train-dp.csv: Row has 5 columns, expected 4 - row data: ['Dark Orchid', '1', '13', '1', '1']\n",
      "File: /Users/angwang/ChartFC/seed_datasets_150_GF/3_translated_data_150_GF/FigureQA/train/tables/figureQA_10448-train-dp.csv: Row has 6 columns, expected 5 - row data: ['Medium Blue', '1.600', '11', '8.675', '14.675', '14.675']\n",
      "File: /Users/angwang/ChartFC/seed_datasets_150_GF/3_translated_data_150_GF/FigureQA/train/tables/figureQA_33773-train-dp.csv: Row has 4 columns, expected 3 - row data: ['Peru', '1', '0', '0']\n",
      "File: /Users/angwang/ChartFC/seed_datasets_150_GF/3_translated_data_150_GF/FigureQA/train/tables/figureQA_14982-train-dp.csv: Row has 8 columns, expected 7 - row data: ['title', '10.5', '1.1', '13.6', '1.6', '9.0', '1.4', '7.0']\n",
      "File: /Users/angwang/ChartFC/seed_datasets_150_GF/3_translated_data_150_GF/FigureQA/train/tables/figureQA_99536-train-dp.csv: Row has 3 columns, expected 6 - row data: ['x9x6', '94.0', '94.0']\n",
      "File: /Users/angwang/ChartFC/seed_datasets_150_GF/3_translated_data_150_GF/FigureQA/train/tables/figureQA_95767-train-dp.csv: Row has 3 columns, expected 4 - row data: ['xaxis_label', '98.1', '97.']\n",
      "File: /Users/angwang/ChartFC/seed_datasets_150_GF/3_translated_data_150_GF/FigureQA/train/tables/figureQA_80654-train-dp.csv: Row has 2 columns, expected 5 - row data: ['xlabel', '63.0']\n",
      "File: /Users/angwang/ChartFC/seed_datasets_150_GF/3_translated_data_150_GF/FigureQA/train/tables/figureQA_98884-train-dp.csv: Row has 1 columns, expected 6 - row data: ['20.28']\n",
      "File: /Users/angwang/ChartFC/seed_datasets_150_GF/3_translated_data_150_GF/FigureQA/train/tables/figureQA_49556-train-dp.csv: Row has 6 columns, expected 5 - row data: ['Green Yellow', '6', '0', '0', '0', '0']\n",
      "File: /Users/angwang/ChartFC/seed_datasets_150_GF/3_translated_data_150_GF/FigureQA/train/tables/figureQA_63661-train-dp.csv: Row has 2 columns, expected 7 - row data: ['xaxis label', '32.9']\n",
      "File: /Users/angwang/ChartFC/seed_datasets_150_GF/3_translated_data_150_GF/FigureQA/train/tables/figureQA_41738-train-dp.csv: Row has 2 columns, expected 1 - row data: ['Yellow Green', '58']\n",
      "File: /Users/angwang/ChartFC/seed_datasets_150_GF/3_translated_data_150_GF/FigureQA/train/tables/figureQA_81312-train-dp.csv: Row has 5 columns, expected 8 - row data: ['x3', '72.0', '32.3', '70.8', '71']\n"
     ]
    },
    {
     "name": "stderr",
     "output_type": "stream",
     "text": [
      "/var/folders/sx/hkqgssrx0jd_jb2_792hz_hm0000gp/T/ipykernel_16225/3642607392.py:37: FutureWarning: errors='ignore' is deprecated and will raise in a future version. Use to_numeric without passing `errors` and catch exceptions explicitly instead\n",
      "  df = pd.DataFrame(records, columns=header).apply(pd.to_numeric, errors='ignore')\n"
     ]
    }
   ],
   "source": [
    "# Pattern for matching csvs in FigureQA and PlotQA\n",
    "for filepath in glob.glob(data_pattern, recursive=True):\n",
    "    with open(filepath, 'r') as file:\n",
    "        data_string = file.read()\n",
    "\n",
    "    try:\n",
    "        result = string_to_dataframe_and_title(data_string, filepath)\n",
    "        if result is None:\n",
    "            print(f\"Skipping conversion for {filepath} because it removes data.\")\n",
    "            continue\n",
    "\n",
    "        df, title = result\n",
    "\n",
    "        if df is not None:\n",
    "            # Save the DataFrame (overwrite original file)\n",
    "            df.to_csv(filepath, index=False)\n",
    "                \n",
    "            # Save the title to a separate file\n",
    "            save_title_to_file(title, filepath)\n",
    "    except ValueError as e:\n",
    "        print(f\"Error processing {filepath}: {e}\")"
   ]
  },
  {
   "cell_type": "code",
   "execution_count": 9,
   "id": "a0a876f1",
   "metadata": {},
   "outputs": [
    {
     "data": {
      "text/plain": [
       "['/Users/angwang/ChartFC/seed_datasets_150_GF/3_translated_data_150_GF/FigureQA/train/tables/figureQA_81266-train-dp.csv',\n",
       " '/Users/angwang/ChartFC/seed_datasets_150_GF/3_translated_data_150_GF/FigureQA/train/tables/figureQA_16865-train-dp.csv',\n",
       " '/Users/angwang/ChartFC/seed_datasets_150_GF/3_translated_data_150_GF/FigureQA/train/tables/figureQA_15311-train-dp.csv',\n",
       " '/Users/angwang/ChartFC/seed_datasets_150_GF/3_translated_data_150_GF/FigureQA/train/tables/figureQA_86227-train-dp.csv',\n",
       " '/Users/angwang/ChartFC/seed_datasets_150_GF/3_translated_data_150_GF/FigureQA/train/tables/figureQA_10137-train-dp.csv',\n",
       " '/Users/angwang/ChartFC/seed_datasets_150_GF/3_translated_data_150_GF/FigureQA/train/tables/figureQA_21272-train-dp.csv',\n",
       " '/Users/angwang/ChartFC/seed_datasets_150_GF/3_translated_data_150_GF/FigureQA/train/tables/figureQA_88572-train-dp.csv',\n",
       " '/Users/angwang/ChartFC/seed_datasets_150_GF/3_translated_data_150_GF/FigureQA/train/tables/figureQA_38848-train-dp.csv',\n",
       " '/Users/angwang/ChartFC/seed_datasets_150_GF/3_translated_data_150_GF/FigureQA/train/tables/figureQA_13202-train-dp.csv',\n",
       " '/Users/angwang/ChartFC/seed_datasets_150_GF/3_translated_data_150_GF/FigureQA/train/tables/figureQA_10448-train-dp.csv',\n",
       " '/Users/angwang/ChartFC/seed_datasets_150_GF/3_translated_data_150_GF/FigureQA/train/tables/figureQA_33773-train-dp.csv',\n",
       " '/Users/angwang/ChartFC/seed_datasets_150_GF/3_translated_data_150_GF/FigureQA/train/tables/figureQA_14982-train-dp.csv',\n",
       " '/Users/angwang/ChartFC/seed_datasets_150_GF/3_translated_data_150_GF/FigureQA/train/tables/figureQA_99536-train-dp.csv',\n",
       " '/Users/angwang/ChartFC/seed_datasets_150_GF/3_translated_data_150_GF/FigureQA/train/tables/figureQA_95767-train-dp.csv',\n",
       " '/Users/angwang/ChartFC/seed_datasets_150_GF/3_translated_data_150_GF/FigureQA/train/tables/figureQA_80654-train-dp.csv',\n",
       " '/Users/angwang/ChartFC/seed_datasets_150_GF/3_translated_data_150_GF/FigureQA/train/tables/figureQA_98884-train-dp.csv',\n",
       " '/Users/angwang/ChartFC/seed_datasets_150_GF/3_translated_data_150_GF/FigureQA/train/tables/figureQA_49556-train-dp.csv',\n",
       " '/Users/angwang/ChartFC/seed_datasets_150_GF/3_translated_data_150_GF/FigureQA/train/tables/figureQA_63661-train-dp.csv',\n",
       " '/Users/angwang/ChartFC/seed_datasets_150_GF/3_translated_data_150_GF/FigureQA/train/tables/figureQA_41738-train-dp.csv',\n",
       " '/Users/angwang/ChartFC/seed_datasets_150_GF/3_translated_data_150_GF/FigureQA/train/tables/figureQA_81312-train-dp.csv']"
      ]
     },
     "execution_count": 9,
     "metadata": {},
     "output_type": "execute_result"
    }
   ],
   "source": [
    "''' Check if CSV was converted properly '''\n",
    "def test_csv_conversion(directory_pattern):\n",
    "    not_converted_properly = []\n",
    "\n",
    "    # Loop through each file in directory\n",
    "    for filepath in glob.glob(directory_pattern, recursive=True):\n",
    "        # Only check converted files\n",
    "        if filepath.endswith('-dp.csv'):\n",
    "            try:\n",
    "                df = pd.read_csv(filepath)\n",
    "                # If shape is (0, 1), add to list\n",
    "                if df.shape == (0, 1):\n",
    "                    not_converted_properly.append(filepath)\n",
    "            except Exception as e: # If error reading CSV, add to list\n",
    "                not_converted_properly.append(filepath)\n",
    "\n",
    "    return not_converted_properly\n",
    "\n",
    "# Check for files not converted properly\n",
    "csvs_not_converted_properly = test_csv_conversion(data_pattern)\n",
    "csvs_not_converted_properly"
   ]
  },
  {
   "cell_type": "code",
   "execution_count": 10,
   "id": "7cc6df53-0aaa-480f-89ea-9c01512ccbb0",
   "metadata": {},
   "outputs": [],
   "source": [
    "# ''' Delete existing converted files '''\n",
    "# # Recursively match files in subdirectories\n",
    "# for pattern in patterns:\n",
    "#     for filepath in glob.glob(pattern, recursive=True):\n",
    "#         if filepath.endswith('-converted.csv') or filepath.endswith('-title.txt'):\n",
    "#             os.remove(filepath)  # Delete the file\n",
    "\n",
    "# # Check for remaining files\n",
    "# remaining_converted_files = []\n",
    "# for pattern in patterns:\n",
    "#     remaining_converted_files.extend([f for f in glob.glob(pattern, recursive=True) if f.endswith('-converted.csv') or f.endswith('-title.txt')])\n",
    "# remaining_converted_files"
   ]
  }
 ],
 "metadata": {
  "kernelspec": {
   "display_name": "Python 3 (ipykernel)",
   "language": "python",
   "name": "python3"
  },
  "language_info": {
   "codemirror_mode": {
    "name": "ipython",
    "version": 3
   },
   "file_extension": ".py",
   "mimetype": "text/x-python",
   "name": "python",
   "nbconvert_exporter": "python",
   "pygments_lexer": "ipython3",
   "version": "3.11.7"
  }
 },
 "nbformat": 4,
 "nbformat_minor": 5
}
